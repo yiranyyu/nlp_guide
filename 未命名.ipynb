{
 "cells": [
  {
   "cell_type": "code",
   "execution_count": 1,
   "metadata": {},
   "outputs": [],
   "source": [
    "from word2vec_inner import *\n",
    "from word2vec_example import Vocab as ExampleVocab"
   ]
  },
  {
   "cell_type": "code",
   "execution_count": 2,
   "metadata": {},
   "outputs": [
    {
     "name": "stdout",
     "output_type": "stream",
     "text": [
      "Start learning vocab\n",
      "Total words in training file: 103148\n",
      "Vocab size: 2101\n"
     ]
    }
   ],
   "source": [
    "path = './data/word2vec/103k_words.txt'\n",
    "min_count = 7\n",
    "vocab = Vocab(path, min_count)\n",
    "vocab.encode_huffman()"
   ]
  },
  {
   "cell_type": "code",
   "execution_count": 3,
   "metadata": {},
   "outputs": [
    {
     "name": "stdout",
     "output_type": "stream",
     "text": [
      "\n",
      "Unknown vocab size: 12189\n",
      "Total words in training file: 103184\n",
      "Total bytes in training file: 648250\n",
      "Vocab size: 2102\n"
     ]
    }
   ],
   "source": [
    "example = ExampleVocab(path, min_count)\n",
    "example.encode_huffman()"
   ]
  },
  {
   "cell_type": "code",
   "execution_count": 11,
   "metadata": {},
   "outputs": [
    {
     "name": "stdout",
     "output_type": "stream",
     "text": [
      "[1, 1, 1, 0, 1, 0, 0]\n",
      "[1, 1, 1, 0, 1, 0, 0]\n"
     ]
    }
   ],
   "source": [
    "word = 'is'\n",
    "\n",
    "idx = example.indices([word])\n",
    "tok = example[idx[0]]\n",
    "print(tok.code)\n",
    "\n",
    "idx = vocab.indices([word])\n",
    "tok = vocab[idx[0]]\n",
    "print(tok.code)"
   ]
  },
  {
   "cell_type": "code",
   "execution_count": null,
   "metadata": {},
   "outputs": [],
   "source": []
  }
 ],
 "metadata": {
  "kernelspec": {
   "display_name": "Python 3",
   "language": "python",
   "name": "python3"
  },
  "language_info": {
   "codemirror_mode": {
    "name": "ipython",
    "version": 3
   },
   "file_extension": ".py",
   "mimetype": "text/x-python",
   "name": "python",
   "nbconvert_exporter": "python",
   "pygments_lexer": "ipython3",
   "version": "3.6.8"
  }
 },
 "nbformat": 4,
 "nbformat_minor": 2
}
