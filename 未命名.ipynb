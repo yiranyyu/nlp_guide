{
 "cells": [
  {
   "cell_type": "code",
   "execution_count": 1,
   "metadata": {},
   "outputs": [],
   "source": [
    "from word2vec_inner import *\n",
    "from word2vec_example import Vocab as ExampleVocab"
   ]
  },
  {
   "cell_type": "code",
   "execution_count": 2,
   "metadata": {},
   "outputs": [
    {
     "name": "stdout",
     "output_type": "stream",
     "text": [
      "Start learning vocab\n",
      "Total words in training file: 103148\n",
      "Vocab size: 2101\n"
     ]
    }
   ],
   "source": [
    "path = './data/word2vec/103k_words.txt'\n",
    "min_count = 7\n",
    "vocab = Vocab(path, min_count)\n",
    "vocab.encode_huffman()"
   ]
  },
  {
   "cell_type": "code",
   "execution_count": 3,
   "metadata": {},
   "outputs": [
    {
     "name": "stdout",
     "output_type": "stream",
     "text": [
      "\n",
      "Unknown vocab size: 12189\n",
      "Total words in training file: 103184\n",
      "Total bytes in training file: 648250\n",
      "Vocab size: 2102\n"
     ]
    }
   ],
   "source": [
    "example = ExampleVocab(path, min_count)\n",
    "example.encode_huffman()"
   ]
  },
  {
   "cell_type": "code",
   "execution_count": 25,
   "metadata": {},
   "outputs": [
    {
     "name": "stdout",
     "output_type": "stream",
     "text": [
      "[2100, 2098]\n",
      "[2099, 2098, 2096, 2092, 2084, 2070, 2045, 1998, 1915, 1770, 1513, 1109, 552, 1, 0]\n"
     ]
    }
   ],
   "source": [
    "word = '<unk>'\n",
    "\n",
    "idx = example.indices([word])\n",
    "tok = example[idx[0]]\n",
    "print(tok.path)\n",
    "\n",
    "idx = vocab.indices([word])\n",
    "tok = vocab[idx[0]]\n",
    "print(tok.path)"
   ]
  },
  {
   "cell_type": "code",
   "execution_count": null,
   "metadata": {},
   "outputs": [],
   "source": []
  }
 ],
 "metadata": {
  "kernelspec": {
   "display_name": "Python 3",
   "language": "python",
   "name": "python3"
  },
  "language_info": {
   "codemirror_mode": {
    "name": "ipython",
    "version": 3
   },
   "file_extension": ".py",
   "mimetype": "text/x-python",
   "name": "python",
   "nbconvert_exporter": "python",
   "pygments_lexer": "ipython3",
   "version": "3.6.8"
  }
 },
 "nbformat": 4,
 "nbformat_minor": 2
}
